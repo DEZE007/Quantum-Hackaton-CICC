{
  "cells": [
    {
      "cell_type": "markdown",
      "metadata": {
        "id": "view-in-github",
        "colab_type": "text"
      },
      "source": [
        "<a href=\"https://colab.research.google.com/github/DEZE007/Quantum-Hackaton-CICC/blob/main/qrng.ipynb\" target=\"_parent\"><img src=\"https://colab.research.google.com/assets/colab-badge.svg\" alt=\"Open In Colab\"/></a>"
      ]
    },
    {
      "cell_type": "markdown",
      "id": "4d8fe2a0",
      "metadata": {
        "id": "4d8fe2a0"
      },
      "source": [
        "## **QRNG** - *Quantum Random Number Generation*\n",
        "* October 15°, 2025\n",
        "#### CIC - IPN: *Qiskit Fall Fest*\n",
        "\n",
        "> Alexander Sanchez"
      ]
    },
    {
      "cell_type": "markdown",
      "id": "2d810faa",
      "metadata": {
        "id": "2d810faa"
      },
      "source": [
        "* How to install qiskit-aer:\n",
        "\n",
        "You can install `qiskit-aer` using pip:\n",
        "\n",
        "```bash\n",
        "pip install qiskit-aer\n",
        "```\n",
        "\n",
        "Or if you prefer using conda:\n",
        "\n",
        "```bash\n",
        "conda install -c conda-forge qiskit-aer\n",
        "```\n",
        "\n",
        "**Note**: `qiskit-aer` is the high-performance simulator for Qiskit that provides noise models and advanced simulation capabilities. It's essential for running quantum circuits locally with realistic noise modeling."
      ]
    },
    {
      "cell_type": "code",
      "source": [
        "!pip install qiskit\n",
        "!pip install qiskit-aer\n",
        "!pip install pylatexenc\n",
        "!pip install qiskit[visualization]"
      ],
      "metadata": {
        "colab": {
          "base_uri": "https://localhost:8080/"
        },
        "collapsed": true,
        "id": "exE0cZHGJ-JV",
        "outputId": "e06b1604-037e-49a5-e072-cb34898f12a1"
      },
      "execution_count": 39,
      "outputs": [
        {
          "output_type": "stream",
          "name": "stdout",
          "text": [
            "Requirement already satisfied: qiskit in /usr/local/lib/python3.12/dist-packages (2.2.1)\n",
            "Requirement already satisfied: rustworkx>=0.15.0 in /usr/local/lib/python3.12/dist-packages (from qiskit) (0.17.1)\n",
            "Requirement already satisfied: numpy<3,>=1.17 in /usr/local/lib/python3.12/dist-packages (from qiskit) (2.0.2)\n",
            "Requirement already satisfied: scipy>=1.5 in /usr/local/lib/python3.12/dist-packages (from qiskit) (1.16.2)\n",
            "Requirement already satisfied: dill>=0.3 in /usr/local/lib/python3.12/dist-packages (from qiskit) (0.3.8)\n",
            "Requirement already satisfied: stevedore>=3.0.0 in /usr/local/lib/python3.12/dist-packages (from qiskit) (5.5.0)\n",
            "Requirement already satisfied: typing-extensions in /usr/local/lib/python3.12/dist-packages (from qiskit) (4.15.0)\n",
            "Requirement already satisfied: qiskit-aer in /usr/local/lib/python3.12/dist-packages (0.17.2)\n",
            "Requirement already satisfied: qiskit>=1.1.0 in /usr/local/lib/python3.12/dist-packages (from qiskit-aer) (2.2.1)\n",
            "Requirement already satisfied: numpy>=1.16.3 in /usr/local/lib/python3.12/dist-packages (from qiskit-aer) (2.0.2)\n",
            "Requirement already satisfied: scipy>=1.0 in /usr/local/lib/python3.12/dist-packages (from qiskit-aer) (1.16.2)\n",
            "Requirement already satisfied: psutil>=5 in /usr/local/lib/python3.12/dist-packages (from qiskit-aer) (5.9.5)\n",
            "Requirement already satisfied: python-dateutil>=2.8.0 in /usr/local/lib/python3.12/dist-packages (from qiskit-aer) (2.9.0.post0)\n",
            "Requirement already satisfied: six>=1.5 in /usr/local/lib/python3.12/dist-packages (from python-dateutil>=2.8.0->qiskit-aer) (1.17.0)\n",
            "Requirement already satisfied: rustworkx>=0.15.0 in /usr/local/lib/python3.12/dist-packages (from qiskit>=1.1.0->qiskit-aer) (0.17.1)\n",
            "Requirement already satisfied: dill>=0.3 in /usr/local/lib/python3.12/dist-packages (from qiskit>=1.1.0->qiskit-aer) (0.3.8)\n",
            "Requirement already satisfied: stevedore>=3.0.0 in /usr/local/lib/python3.12/dist-packages (from qiskit>=1.1.0->qiskit-aer) (5.5.0)\n",
            "Requirement already satisfied: typing-extensions in /usr/local/lib/python3.12/dist-packages (from qiskit>=1.1.0->qiskit-aer) (4.15.0)\n",
            "Requirement already satisfied: pylatexenc in /usr/local/lib/python3.12/dist-packages (2.10)\n",
            "Requirement already satisfied: qiskit[visualization] in /usr/local/lib/python3.12/dist-packages (2.2.1)\n",
            "Requirement already satisfied: rustworkx>=0.15.0 in /usr/local/lib/python3.12/dist-packages (from qiskit[visualization]) (0.17.1)\n",
            "Requirement already satisfied: numpy<3,>=1.17 in /usr/local/lib/python3.12/dist-packages (from qiskit[visualization]) (2.0.2)\n",
            "Requirement already satisfied: scipy>=1.5 in /usr/local/lib/python3.12/dist-packages (from qiskit[visualization]) (1.16.2)\n",
            "Requirement already satisfied: dill>=0.3 in /usr/local/lib/python3.12/dist-packages (from qiskit[visualization]) (0.3.8)\n",
            "Requirement already satisfied: stevedore>=3.0.0 in /usr/local/lib/python3.12/dist-packages (from qiskit[visualization]) (5.5.0)\n",
            "Requirement already satisfied: typing-extensions in /usr/local/lib/python3.12/dist-packages (from qiskit[visualization]) (4.15.0)\n",
            "Requirement already satisfied: matplotlib>=3.3 in /usr/local/lib/python3.12/dist-packages (from qiskit[visualization]) (3.10.0)\n",
            "Requirement already satisfied: pydot in /usr/local/lib/python3.12/dist-packages (from qiskit[visualization]) (3.0.4)\n",
            "Requirement already satisfied: Pillow>=4.2.1 in /usr/local/lib/python3.12/dist-packages (from qiskit[visualization]) (11.3.0)\n",
            "Requirement already satisfied: pylatexenc>=1.4 in /usr/local/lib/python3.12/dist-packages (from qiskit[visualization]) (2.10)\n",
            "Requirement already satisfied: seaborn>=0.9.0 in /usr/local/lib/python3.12/dist-packages (from qiskit[visualization]) (0.13.2)\n",
            "Requirement already satisfied: sympy>=1.3 in /usr/local/lib/python3.12/dist-packages (from qiskit[visualization]) (1.13.3)\n",
            "Requirement already satisfied: contourpy>=1.0.1 in /usr/local/lib/python3.12/dist-packages (from matplotlib>=3.3->qiskit[visualization]) (1.3.3)\n",
            "Requirement already satisfied: cycler>=0.10 in /usr/local/lib/python3.12/dist-packages (from matplotlib>=3.3->qiskit[visualization]) (0.12.1)\n",
            "Requirement already satisfied: fonttools>=4.22.0 in /usr/local/lib/python3.12/dist-packages (from matplotlib>=3.3->qiskit[visualization]) (4.60.1)\n",
            "Requirement already satisfied: kiwisolver>=1.3.1 in /usr/local/lib/python3.12/dist-packages (from matplotlib>=3.3->qiskit[visualization]) (1.4.9)\n",
            "Requirement already satisfied: packaging>=20.0 in /usr/local/lib/python3.12/dist-packages (from matplotlib>=3.3->qiskit[visualization]) (25.0)\n",
            "Requirement already satisfied: pyparsing>=2.3.1 in /usr/local/lib/python3.12/dist-packages (from matplotlib>=3.3->qiskit[visualization]) (3.2.5)\n",
            "Requirement already satisfied: python-dateutil>=2.7 in /usr/local/lib/python3.12/dist-packages (from matplotlib>=3.3->qiskit[visualization]) (2.9.0.post0)\n",
            "Requirement already satisfied: pandas>=1.2 in /usr/local/lib/python3.12/dist-packages (from seaborn>=0.9.0->qiskit[visualization]) (2.2.2)\n",
            "Requirement already satisfied: mpmath<1.4,>=1.1.0 in /usr/local/lib/python3.12/dist-packages (from sympy>=1.3->qiskit[visualization]) (1.3.0)\n",
            "Requirement already satisfied: pytz>=2020.1 in /usr/local/lib/python3.12/dist-packages (from pandas>=1.2->seaborn>=0.9.0->qiskit[visualization]) (2025.2)\n",
            "Requirement already satisfied: tzdata>=2022.7 in /usr/local/lib/python3.12/dist-packages (from pandas>=1.2->seaborn>=0.9.0->qiskit[visualization]) (2025.2)\n",
            "Requirement already satisfied: six>=1.5 in /usr/local/lib/python3.12/dist-packages (from python-dateutil>=2.7->matplotlib>=3.3->qiskit[visualization]) (1.17.0)\n"
          ]
        }
      ],
      "id": "exE0cZHGJ-JV"
    },
    {
      "cell_type": "markdown",
      "id": "69822e09",
      "metadata": {
        "id": "69822e09"
      },
      "source": [
        "* Define the quantum circuit"
      ]
    },
    {
      "cell_type": "code",
      "execution_count": null,
      "id": "38b7de58",
      "metadata": {
        "id": "38b7de58",
        "outputId": "00306eeb-2e1e-48e9-cc21-fb85899f3148",
        "colab": {
          "base_uri": "https://localhost:8080/",
          "height": 208
        }
      },
      "outputs": [
        {
          "output_type": "stream",
          "name": "stdout",
          "text": [
            "Quantum Circuit:\n"
          ]
        },
        {
          "output_type": "execute_result",
          "data": {
            "text/plain": [
              "<Figure size 269.064x200.667 with 1 Axes>"
            ],
            "image/png": "[encoded data removed]"
          },
          "metadata": {},
          "execution_count": 3
        }
      ],
      "source": [
        "# Perform a quantum random number generation using Qiskit simulating locally\n",
        "# and visualize the results with matplotlib and seaborn\n",
        "import matplotlib.pyplot as plt\n",
        "from qiskit import QuantumCircuit, transpile\n",
        "from qiskit_aer import AerSimulator\n",
        "\n",
        "# Set up the quantum circuit\n",
        "qc = QuantumCircuit(1, 1)\n",
        "qc.h(0)  # Apply Hadamard gate to create superposition\n",
        "qc.measure(0, 0)  # Measure the qubit\n",
        "\n",
        "print(\"Quantum Circuit:\")\n",
        "qc.draw(output='mpl')"
      ]
    },
    {
      "cell_type": "markdown",
      "id": "63b2e507",
      "metadata": {
        "id": "63b2e507"
      },
      "source": [
        "* Simulate the circuit"
      ]
    },
    {
      "cell_type": "code",
      "execution_count": null,
      "id": "188216b4",
      "metadata": {
        "id": "188216b4",
        "outputId": "a5b1295c-05fe-4830-889b-69523eab4655"
      },
      "outputs": [
        {
          "name": "stdout",
          "output_type": "stream",
          "text": [
            "\n",
            "Measurement results: {'1': 526, '0': 498}\n"
          ]
        },
        {
          "data": {
            "image/png": "[encoded data removed]",
            "text/plain": [
              "<Figure size 800x600 with 1 Axes>"
            ]
          },
          "metadata": {},
          "output_type": "display_data"
        }
      ],
      "source": [
        "# Simulate the circuit\n",
        "simulator = AerSimulator()\n",
        "transpiled_circuit = transpile(qc, simulator)\n",
        "job = simulator.run(transpiled_circuit, shots=1024)\n",
        "# job = simulator.run(transpiled_circuit, shots=1024, seed_simulator=42)\n",
        "result = job.result()\n",
        "counts = result.get_counts()\n",
        "\n",
        "print(f\"\\nMeasurement results: {counts}\")\n",
        "\n",
        "# Alternative visualization using matplotlib\n",
        "plt.figure(figsize=(8, 6))\n",
        "states = list(counts.keys())\n",
        "probabilities = [counts[state]/1024 for state in states]\n",
        "\n",
        "plt.bar(states, probabilities, color=['skyblue', 'lightcoral'])\n",
        "plt.xlabel('Quantum State (0 or 1)')\n",
        "plt.ylabel('Probability')\n",
        "plt.title('QRNG: Probability Distribution of Quantum Measurements')\n",
        "plt.ylim(0, 1)\n",
        "\n",
        "# Add probability labels on bars\n",
        "for i, prob in enumerate(probabilities):\n",
        "    plt.text(i, prob + 0.02, f'{prob:.3f}', ha='center', va='bottom')\n",
        "\n",
        "plt.show()"
      ]
    },
    {
      "cell_type": "markdown",
      "id": "a63c30a6",
      "metadata": {
        "id": "a63c30a6"
      },
      "source": [
        "* **Challenge**: Generate a random number (base 10) given a range between `n` and `m` using the quantum circuit above."
      ]
    },
    {
      "cell_type": "code",
      "source": [
        "import math\n",
        "\n",
        "# Initialize the simulator once for efficiency\n",
        "simulator = AerSimulator()\n",
        "\n",
        "def get_random_bit() -> int:\n",
        "    \"\"\"\n",
        "    Simulates the execution of the quantum circuit (H + Measurement)\n",
        "    to obtain a single random bit (0 or 1).\n",
        "    \"\"\"\n",
        "    # 1. Define the single-qubit circuit\n",
        "    qc = QuantumCircuit(1, 1)\n",
        "    qc.h(0)            # Hadamard gate for superposition\n",
        "    qc.measure(0, 0)   # Measurement\n",
        "\n",
        "    # 2. Run the simulation with 1 shot to obtain a single result\n",
        "    transpiled_circuit = transpile(qc, simulator)\n",
        "    job = simulator.run(transpiled_circuit, shots=1)\n",
        "    result = job.result()\n",
        "    counts = result.get_counts()\n",
        "\n",
        "    # 3. Extract the resulting bit (the result will be '0' or '1')\n",
        "    # Since we only requested 1 shot, the result is the only key in the dictionary\n",
        "    random_bit_str = list(counts.keys())[0]\n",
        "    return int(random_bit_str)\n",
        "\n",
        "def generate_random_number(n: int, m: int) -> int:\n",
        "    \"\"\"\n",
        "    Generates a random integer within the range [n, m] using bits\n",
        "    produced by the quantum circuit simulation.\n",
        "    \"\"\"\n",
        "    # 1. Determine the size of the range (Delta)\n",
        "    delta = m - n + 1\n",
        "    if delta <= 0:\n",
        "        raise ValueError(\"Invalid range: n must be less than or equal to m.\")\n",
        "\n",
        "    # 2. Determine the number of qubits (L) required.\n",
        "    # L is the minimum number of bits needed to represent a number up to delta - 1.\n",
        "    L = math.ceil(math.log2(delta))\n",
        "\n",
        "    # 3. Rejection Sampling Algorithm\n",
        "    while True:\n",
        "        R_dec = 0\n",
        "\n",
        "        # Generate a random number R_dec using L quantum bits.\n",
        "        for i in range(L):\n",
        "            # Obtain a random bit from the Qiskit simulator\n",
        "            bit = get_random_bit()\n",
        "            # Combine the bits to form the decimal number\n",
        "            R_dec += bit * (2 ** i)\n",
        "\n",
        "        # 4. Rejection condition: if R_dec falls outside the range [0, delta - 1], repeat.\n",
        "        if R_dec < delta:\n",
        "            # 5. Shift the result to the range [n, m]\n",
        "            random_number = R_dec + n\n",
        "            return random_number\n",
        "\n",
        "# Example usage\n",
        "n = 10\n",
        "m = 50\n",
        "random_number = generate_random_number(n, m)\n",
        "print(f\"\\nRandom number between {n} and {m}: {random_number}\")\n"
      ],
      "metadata": {
        "colab": {
          "base_uri": "https://localhost:8080/"
        },
        "id": "w-qFKMHbUo0S",
        "outputId": "89e1afa9-021a-4538-f15b-bb8093cc914f"
      },
      "id": "w-qFKMHbUo0S",
      "execution_count": 40,
      "outputs": [
        {
          "output_type": "stream",
          "name": "stdout",
          "text": [
            "\n",
            "Random number between 10 and 50: 22\n"
          ]
        }
      ]
    },
    {
      "cell_type": "code",
      "source": [
        "\n",
        "\n",
        "# --- ADDITIONAL BLOCK TO RUN MULTIPLE TIMES AND PLOT A HISTOGRAM ---\n",
        "\n",
        "import matplotlib.pyplot as plt\n",
        "\n",
        "# Number of samples to generate\n",
        "num_samples = 20  # you can adjust this value\n",
        "\n",
        "# Generate multiple random numbers using your existing function\n",
        "results = [generate_random_number(n, m) for _ in range(num_samples)]\n",
        "\n",
        "# Show the first few generated numbers for verification\n",
        "print(f\"First 10 generated numbers: {results[:10]}\")\n",
        "\n",
        "# Create the histogram\n",
        "plt.figure(figsize=(10, 6))\n",
        "plt.hist(results, bins=range(n, m + 2), edgecolor='black', alpha=0.7)\n",
        "plt.title(f\"Distribution of {num_samples} simulated quantum random numbers\")\n",
        "plt.xlabel(\"Generated number\")\n",
        "plt.ylabel(\"Frequency\")\n",
        "plt.grid(axis='y', alpha=0.3)\n",
        "plt.show()\n"
      ],
      "metadata": {
        "colab": {
          "base_uri": "https://localhost:8080/",
          "height": 582
        },
        "id": "9tesoFxGnsNC",
        "outputId": "7db1d6a7-ba09-49a2-8383-3a1f9efad37b"
      },
      "id": "9tesoFxGnsNC",
      "execution_count": 44,
      "outputs": [
        {
          "output_type": "stream",
          "name": "stdout",
          "text": [
            "First 10 generated numbers: [12, 48, 47, 11, 27, 29, 16, 27, 20, 46]\n"
          ]
        },
        {
          "output_type": "display_data",
          "data": {
            "text/plain": [
              "<Figure size 1000x600 with 1 Axes>"
            ],
            "image/png": "[encoded data removed]"
          },
          "metadata": {}
        }
      ]
    }
  ],
  "metadata": {
    "kernelspec": {
      "display_name": "base",
      "language": "python",
      "name": "python3"
    },
    "language_info": {
      "codemirror_mode": {
        "name": "ipython",
        "version": 3
      },
      "file_extension": ".py",
      "mimetype": "text/x-python",
      "name": "python",
      "nbconvert_exporter": "python",
      "pygments_lexer": "ipython3",
      "version": "3.12.7"
    },
    "colab": {
      "provenance": [],
      "include_colab_link": true
    }
  },
  "nbformat": 4,
  "nbformat_minor": 5
}